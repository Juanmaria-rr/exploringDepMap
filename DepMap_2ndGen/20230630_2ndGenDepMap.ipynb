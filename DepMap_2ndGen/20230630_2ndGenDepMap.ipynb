{
 "cells": [
  {
   "cell_type": "code",
   "execution_count": 18,
   "metadata": {},
   "outputs": [],
   "source": [
    "#### ####\n",
    "import findspark\n",
    "\n",
    "findspark.init(\"/opt/homebrew/Cellar/apache-spark/3.3.0/libexec\")\n",
    "\n",
    "import pyspark\n",
    "from pyspark.sql import SparkSession\n",
    "import pyspark.sql.functions as F\n",
    "from pyspark.sql import Window\n",
    "\n",
    "from psutil import virtual_memory\n",
    "from pyspark import SparkFiles\n",
    "from pyspark.conf import SparkConf\n",
    "from pyspark.sql.functions import col\n",
    "from pyspark.sql.types import StructType, StructField, StringType, IntegerType\n",
    "\n",
    "\n",
    "def detect_spark_memory_limit():\n",
    "    \"\"\"Spark does not automatically use all available memory on a machine. When working on large datasets, this may\n",
    "    cause Java heap space errors, even though there is plenty of RAM available. To fix this, we detect the total amount\n",
    "    of physical memory and allow Spark to use (almost) all of it.\"\"\"\n",
    "    mem_gib = virtual_memory().total >> 30\n",
    "    return int(mem_gib * 0.9)\n",
    "\n",
    "\n",
    "spark_mem_limit = detect_spark_memory_limit()\n",
    "spark_conf = (\n",
    "    SparkConf()\n",
    "    .set(\"spark.driver.memory\", f\"{spark_mem_limit}g\")\n",
    "    .set(\"spark.executor.memory\", f\"{spark_mem_limit}g\")\n",
    "    .set(\"spark.driver.maxResultSize\", \"0\")\n",
    "    .set(\"spark.debug.maxToStringFields\", \"2000000000\")\n",
    "    .set(\"spark.sql.execution.arrow.maxRecordsPerBatch\", \"500000\")\n",
    "    ###.set(\"spark.executor.heartbeatInterval\", \"3600s\")\n",
    "    .set(\"spark.sql.execution.arrow.pyspark.enabled\", \"true\")\n",
    "    .set(\"spark.ui.showConsoleProgress\", \"false\")\n",
    ")\n",
    "\n",
    "\n",
    "spark = (\n",
    "    SparkSession.builder.config(conf=spark_conf)\n",
    "    .master(\"local[*]\")\n",
    "    .config(\"spark.driver.bindAddress\", \"127.0.0.1\")\n",
    "    .config(\"spark.driver.host\", \"localhost\")  ### Run locally\n",
    "    .getOrCreate()\n",
    ")\n"
   ]
  },
  {
   "cell_type": "code",
   "execution_count": 97,
   "metadata": {},
   "outputs": [
    {
     "name": "stdout",
     "output_type": "stream",
     "text": [
      "+----------------------+---------+-----------+-----+------------+-----------------------+-----------+--------------------------------------------------------------+---------------------------------------------------------+---------------------------------------+---------------------+------------+-------+----------------+-------------+--------------+\n",
      "|cancerType            |TARGET   |PRIORITY   |GROUP|TRACTABILITY|MOLTYPE                |MARKERCLASS|ASSOCIATION_EFFECT                                            |MARKER                                                   |ANOVA_table_entry                      |INDICATION           |PPI_distance|PPI_min|Common_essential|Network score|geneType_J    |\n",
      "+----------------------+---------+-----------+-----+------------+-----------------------+-----------+--------------------------------------------------------------+---------------------------------------------------------+---------------------------------------+---------------------+------------+-------+----------------+-------------+--------------+\n",
      "|Acute.Myeloid.Leukemia|KRAS     |67.8       |1    |1           |small-molecule         |A          |Increased Dep.                                                |HTRA3_Expr                                               |a:790830                               |other Anti-Cancer    |3           |3      |FALSE           |50           |specificCancer|\n",
      "|Acute.Myeloid.Leukemia|FLT3     |65.2       |1    |1           |small-molecule         |D          |Increased Dep.                                                |FLT3_Expr                                                |a:365437                               |Anti-Cancer Specific |0           |0      |FALSE           |100          |specificCancer|\n",
      "|Acute.Myeloid.Leukemia|HDAC7    |50.8       |1    |1           |small-molecule         |C          |Increased Dep.                                                |SMARCA1_Expr                                             |a:196776                               |Anti-Cancer Specific |2           |2      |FALSE           |50           |specificCancer|\n",
      "|Acute.Myeloid.Leukemia|NDUFC1   |36         |1    |1           |small-molecule         |A          |Decreased Dep.                                                |DNAH14_Expr                                              |a:923885                               |other Anti-Cancer    |3           |3      |FALSE           |0            |specificCancer|\n",
      "|Acute.Myeloid.Leukemia|ATP1A1   |36.775     |1    |1           |small-molecule         |D          |Decreased Dep.//Increased Dep.//Decreased Dep.//Decreased Dep.|SLC4A11_Expr // UBE2E3_Expr // CEACAM4_Expr // DEFA1_Expr|a:142426//a:783333//a:232377//a:1010091|Anti-Cancer Specific |4//3//Inf//4|3      |FALSE           |0            |specificCancer|\n",
      "|Acute.Myeloid.Leukemia|BCL2     |40         |1    |1           |small-molecule         |D          |Decreased Dep.                                                |MAGED1_Expr                                              |a:867670                               |Anti-Cancer Specific |2           |2      |FALSE           |50           |specificCancer|\n",
      "|Acute.Myeloid.Leukemia|NRAS     |80.8       |1    |2           |small-molecule         |A          |Increased Dep.                                                |NRAS_mut                                                 |a:1875                                 |other Disease        |0           |0      |FALSE           |100          |specificCancer|\n",
      "|Acute.Myeloid.Leukemia|MDM2     |52.88      |1    |2           |small-molecule         |A          |Increased Dep.                                                |ATP10A_Expr                                              |a:1013838                              |Anti-Cancer Specific |3           |3      |FALSE           |50           |specificCancer|\n",
      "|Acute.Myeloid.Leukemia|AHR      |38.4       |1    |2           |small-molecule         |B          |Increased Dep.                                                |GLIPR1_Expr                                              |a:537839                               |other Disease        |2           |2      |FALSE           |50           |specificCancer|\n",
      "|Acute.Myeloid.Leukemia|MEN1     |41.4       |1    |3           |small-molecule         |D          |Increased Dep.                                                |KLF2_Expr                                                |a:404786                               |other Anti-Cancer    |2           |2      |FALSE           |25           |specificCancer|\n",
      "|Acute.Myeloid.Leukemia|PTPN11   |62.76363636|1    |3           |small-molecule         |C          |Decreased Dep.                                                |PRKCD_Expr                                               |a:697131                               |other Disease        |2           |2      |FALSE           |100          |specificCancer|\n",
      "|Acute.Myeloid.Leukemia|KMT2A    |53.65714286|1    |3           |small-molecule         |A          |Increased Dep.                                                |AFF3_Expr                                                |a:564077                               |other Anti-Cancer    |2           |2      |FALSE           |100          |specificCancer|\n",
      "|Acute.Myeloid.Leukemia|DDX3X    |46         |2    |4           |antibody/small-molecule|A          |Increased Dep.                                                |FCN1_Expr                                                |a:121812                               |no compound available|4           |4      |FALSE           |0            |specificCancer|\n",
      "|Acute.Myeloid.Leukemia|PAICS    |43.6       |2    |4           |small-molecule         |A          |Increased Dep.                                                |HOXD13_Expr                                              |a:419777                               |no compound available|3           |3      |FALSE           |0            |specificCancer|\n",
      "|Acute.Myeloid.Leukemia|MDM4     |52.68      |2    |4           |small-molecule         |B          |Decreased Dep.                                                |TP53_mut                                                 |a:3752                                 |no compound available|1           |1      |FALSE           |75           |specificCancer|\n",
      "|Acute.Myeloid.Leukemia|SETDB1   |52.3       |2    |4           |small-molecule         |C          |Increased Dep.                                                |PIWIL4_Expr                                              |a:481624                               |no compound available|1           |1      |FALSE           |100          |specificCancer|\n",
      "|Acute.Myeloid.Leukemia|SOS1     |46.17142857|2    |4           |small-molecule         |B          |Decreased Dep.                                                |CTSG_Expr                                                |a:176159                               |no compound available|2           |2      |FALSE           |50           |specificCancer|\n",
      "|Acute.Myeloid.Leukemia|GAB2     |52.4       |2    |4           |antibody/small-molecule|C          |Increased Dep.                                                |SOCS1_Expr                                               |a:916387                               |no compound available|2           |2      |FALSE           |50           |specificCancer|\n",
      "|Acute.Myeloid.Leukemia|PSIP1    |38.4       |2    |4           |small-molecule         |A          |Decreased Dep.//Decreased Dep.                                |ECI2_Expr // DNAH14_Expr                                 |a:981977//a:923891                     |no compound available|3//4        |3      |FALSE           |0            |specificCancer|\n",
      "|Acute.Myeloid.Leukemia|HNRNPA2B1|36.91428571|2    |4           |antibody               |A          |Decreased Dep.                                                |MAGED1_Expr                                              |a:867664                               |no compound available|3           |3      |FALSE           |0            |specificCancer|\n",
      "+----------------------+---------+-----------+-----+------------+-----------------------+-----------+--------------------------------------------------------------+---------------------------------------------------------+---------------------------------------+---------------------+------------+-------+----------------+-------------+--------------+\n",
      "only showing top 20 rows\n",
      "\n"
     ]
    }
   ],
   "source": [
    "### load target parquet files version 23.06\n",
    "targets_path=\"/Users/juanr/Desktop/DepMap_2ndGen/targets\"\n",
    "target = spark.read.parquet(targets_path)\n",
    "targetSymbols=target.select(\"id\",\"approvedSymbol\").withColumnRenamed(\"approvedSymbol\",\"TARGET\").withColumnRenamed(\"id\",\"targetId\")\n",
    "### load target prioritisation factors \n",
    "targetPrioritisationFactorsPath=\"/Users/juanr/Desktop/DepMap_2ndGen/targetsPriorisation\"\n",
    "targetPrior = spark.read.parquet(targetPrioritisationFactorsPath,sep=r\"\\t\",header=True)\n",
    "targetPrior.show(truncate=False)\n",
    "\n",
    "### Load supplementary Tables 12 y 13\n",
    "secondGenMapTable12_path=\"/Users/juanr/Desktop/SupplementaryTable12.txt\"\n",
    "table12 = (spark.read.csv(secondGenMapTable12_path,sep=r\"\\t\",header=True)\n",
    "    .withColumn(\"geneType_J\", F.lit(\"specificCancer\"))\n",
    "    .withColumnRenamed(\"CE\",\"Common_essential\")\n",
    "    .withColumnRenamed(\"Cancer Type\", \"cancerType\"))\n",
    "\n",
    "secondGenMapTable13_path=\"/Users/juanr/Desktop/SupplementaryTable13.txt\"\n",
    "table13 = (spark.read.csv(secondGenMapTable13_path,sep=r\"\\t\",header=True)\n",
    "    .withColumn(\"geneType_J\", F.lit(\"panCancer\"))\n",
    "    .withColumnRenamed(\"Common essential\",\"Common_essential\")\n",
    "    .withColumn(\"cancerType\", F.lit(\"panCancer\")))"
   ]
  },
  {
   "cell_type": "code",
   "execution_count": 64,
   "metadata": {},
   "outputs": [
    {
     "data": {
      "text/plain": [
       "302"
      ]
     },
     "execution_count": 64,
     "metadata": {},
     "output_type": "execute_result"
    }
   ],
   "source": [
    "### 302 from cancer-type specific analyses \n",
    "\n",
    "table12depMap.select(\"TARGET\").distinct().count()"
   ]
  },
  {
   "cell_type": "code",
   "execution_count": 65,
   "metadata": {},
   "outputs": [
    {
     "data": {
      "text/plain": [
       "196"
      ]
     },
     "execution_count": 65,
     "metadata": {},
     "output_type": "execute_result"
    }
   ],
   "source": [
    "### 196 were pan-cancer \n",
    "\n",
    "table13depMap.select(\"TARGET\").distinct().count()"
   ]
  },
  {
   "cell_type": "code",
   "execution_count": 128,
   "metadata": {},
   "outputs": [],
   "source": [
    "### Make Union of the two tables \n",
    "jointTable=table12.union(table13.select('cancerType',\n",
    " 'TARGET',\n",
    " 'PRIORITY',\n",
    " 'GROUP',\n",
    " 'TRACTABILITY',\n",
    " 'MOLTYPE',\n",
    " 'MARKERCLASS',\n",
    " 'ASSOCIATION_EFFECT',\n",
    " 'MARKER',\n",
    " 'ANOVA_table_entry',\n",
    " 'INDICATION',\n",
    " 'PPI_distance',\n",
    " 'PPI_min',\n",
    " 'Common_essential',\n",
    " 'Network score',\n",
    " 'geneType_J'))"
   ]
  },
  {
   "cell_type": "code",
   "execution_count": 145,
   "metadata": {},
   "outputs": [],
   "source": [
    "### Include Ensembl Id to the datasets \n",
    "from pyspark.sql.types import StructType, StructField, StringType,IntegerType\n",
    "\n",
    "joinTableEns=jointTable.join(targetSymbols, on=\"TARGET\", how=\"left\")\n",
    "completeTable=joinTableEns.join(targetPrior, on=\"targetId\",how=\"left\").withColumn(\"TRACTABILITY\", F.col(\"TRACTABILITY\").cast(IntegerType()))"
   ]
  },
  {
   "cell_type": "code",
   "execution_count": 168,
   "metadata": {},
   "outputs": [
    {
     "data": {
      "text/plain": [
       "713"
      ]
     },
     "execution_count": 168,
     "metadata": {},
     "output_type": "execute_result"
    }
   ],
   "source": [
    "completeTable.count()"
   ]
  },
  {
   "cell_type": "code",
   "execution_count": 167,
   "metadata": {},
   "outputs": [
    {
     "data": {
      "text/plain": [
       "370"
      ]
     },
     "execution_count": 167,
     "metadata": {},
     "output_type": "execute_result"
    }
   ],
   "source": [
    "completeTable.groupBy(\"TARGET\").count().count()"
   ]
  },
  {
   "cell_type": "code",
   "execution_count": 152,
   "metadata": {},
   "outputs": [
    {
     "name": "stdout",
     "output_type": "stream",
     "text": [
      "+--------------+-------------+\n",
      "|    geneType_J|count(TARGET)|\n",
      "+--------------+-------------+\n",
      "|     panCancer|          196|\n",
      "|specificCancer|          302|\n",
      "+--------------+-------------+\n",
      "\n"
     ]
    }
   ],
   "source": [
    "completeTable.groupBy(\"geneType_J\").agg(F.countDistinct(\"TARGET\")).show()"
   ]
  },
  {
   "cell_type": "code",
   "execution_count": null,
   "metadata": {},
   "outputs": [],
   "source": [
    "completeTable.toPandas().to_csv(\"completeTableGenesDepMap2nd.csv\")"
   ]
  },
  {
   "cell_type": "code",
   "execution_count": 160,
   "metadata": {},
   "outputs": [],
   "source": [
    "removeColumns=['MOLTYPE',\n",
    " 'MARKERCLASS',\n",
    " 'ASSOCIATION_EFFECT',\n",
    " 'MARKER',\n",
    " 'ANOVA_table_entry',\n",
    " 'INDICATION',\n",
    " 'PPI_distance',\n",
    " 'PPI_min',\n",
    " 'Common_essential',\n",
    " 'Network score']"
   ]
  },
  {
   "cell_type": "code",
   "execution_count": 163,
   "metadata": {},
   "outputs": [],
   "source": [
    "\n",
    "selectedTable=completeTable.select([c for c in completeTable.columns if c not in removeColumns])"
   ]
  },
  {
   "cell_type": "code",
   "execution_count": 164,
   "metadata": {},
   "outputs": [],
   "source": [
    "selectedTable.toPandas().to_csv(\"selectedTable.csv\")"
   ]
  }
 ],
 "metadata": {
  "kernelspec": {
   "display_name": "python",
   "language": "python",
   "name": "python3"
  },
  "language_info": {
   "codemirror_mode": {
    "name": "ipython",
    "version": 3
   },
   "file_extension": ".py",
   "mimetype": "text/x-python",
   "name": "python",
   "nbconvert_exporter": "python",
   "pygments_lexer": "ipython3",
   "version": "3.10.8"
  },
  "orig_nbformat": 4
 },
 "nbformat": 4,
 "nbformat_minor": 2
}
